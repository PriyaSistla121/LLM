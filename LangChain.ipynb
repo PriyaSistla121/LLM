{
  "nbformat": 4,
  "nbformat_minor": 0,
  "metadata": {
    "colab": {
      "provenance": [],
      "gpuType": "T4"
    },
    "kernelspec": {
      "name": "python3",
      "display_name": "Python 3"
    },
    "language_info": {
      "name": "python"
    },
    "accelerator": "GPU"
  },
  "cells": [
    {
      "cell_type": "markdown",
      "source": [
        "Building using Rag and LangChain"
      ],
      "metadata": {
        "id": "eSC5o7hlU7A9"
      }
    },
    {
      "cell_type": "code",
      "source": [
        "#Requirments\n",
        "#!pip intall langchain pinecone-client huggingface_hub langchain-community sentence_transformers - common way\n",
        "!pip install -r \"/content/Requirments.txt\" # importing lib from file"
      ],
      "metadata": {
        "colab": {
          "base_uri": "https://localhost:8080/"
        },
        "id": "Qx5rRBBXU9M0",
        "outputId": "929ba973-e255-43d0-ccc4-247bec70ebcd"
      },
      "execution_count": 46,
      "outputs": [
        {
          "output_type": "stream",
          "name": "stdout",
          "text": [
            "Requirement already satisfied: langchain in /usr/local/lib/python3.11/dist-packages (from -r /content/Requirments.txt (line 1)) (0.3.16)\n",
            "Requirement already satisfied: pinecone-client in /usr/local/lib/python3.11/dist-packages (from -r /content/Requirments.txt (line 2)) (5.0.1)\n",
            "Requirement already satisfied: huggingface_hub in /usr/local/lib/python3.11/dist-packages (from -r /content/Requirments.txt (line 3)) (0.27.1)\n",
            "Requirement already satisfied: langchain-community in /usr/local/lib/python3.11/dist-packages (from -r /content/Requirments.txt (line 4)) (0.3.16)\n",
            "Requirement already satisfied: sentence_transformers in /usr/local/lib/python3.11/dist-packages (from -r /content/Requirments.txt (line 5)) (3.3.1)\n",
            "Requirement already satisfied: PyYAML>=5.3 in /usr/local/lib/python3.11/dist-packages (from langchain->-r /content/Requirments.txt (line 1)) (6.0.2)\n",
            "Requirement already satisfied: SQLAlchemy<3,>=1.4 in /usr/local/lib/python3.11/dist-packages (from langchain->-r /content/Requirments.txt (line 1)) (2.0.37)\n",
            "Requirement already satisfied: aiohttp<4.0.0,>=3.8.3 in /usr/local/lib/python3.11/dist-packages (from langchain->-r /content/Requirments.txt (line 1)) (3.11.11)\n",
            "Requirement already satisfied: langchain-core<0.4.0,>=0.3.32 in /usr/local/lib/python3.11/dist-packages (from langchain->-r /content/Requirments.txt (line 1)) (0.3.32)\n",
            "Requirement already satisfied: langchain-text-splitters<0.4.0,>=0.3.3 in /usr/local/lib/python3.11/dist-packages (from langchain->-r /content/Requirments.txt (line 1)) (0.3.5)\n",
            "Requirement already satisfied: langsmith<0.4,>=0.1.17 in /usr/local/lib/python3.11/dist-packages (from langchain->-r /content/Requirments.txt (line 1)) (0.3.2)\n",
            "Requirement already satisfied: numpy<2,>=1.22.4 in /usr/local/lib/python3.11/dist-packages (from langchain->-r /content/Requirments.txt (line 1)) (1.26.4)\n",
            "Requirement already satisfied: pydantic<3.0.0,>=2.7.4 in /usr/local/lib/python3.11/dist-packages (from langchain->-r /content/Requirments.txt (line 1)) (2.10.6)\n",
            "Requirement already satisfied: requests<3,>=2 in /usr/local/lib/python3.11/dist-packages (from langchain->-r /content/Requirments.txt (line 1)) (2.32.3)\n",
            "Requirement already satisfied: tenacity!=8.4.0,<10,>=8.1.0 in /usr/local/lib/python3.11/dist-packages (from langchain->-r /content/Requirments.txt (line 1)) (9.0.0)\n",
            "Requirement already satisfied: certifi>=2019.11.17 in /usr/local/lib/python3.11/dist-packages (from pinecone-client->-r /content/Requirments.txt (line 2)) (2024.12.14)\n",
            "Requirement already satisfied: pinecone-plugin-inference<2.0.0,>=1.0.3 in /usr/local/lib/python3.11/dist-packages (from pinecone-client->-r /content/Requirments.txt (line 2)) (1.1.0)\n",
            "Requirement already satisfied: pinecone-plugin-interface<0.0.8,>=0.0.7 in /usr/local/lib/python3.11/dist-packages (from pinecone-client->-r /content/Requirments.txt (line 2)) (0.0.7)\n",
            "Requirement already satisfied: tqdm>=4.64.1 in /usr/local/lib/python3.11/dist-packages (from pinecone-client->-r /content/Requirments.txt (line 2)) (4.67.1)\n",
            "Requirement already satisfied: typing-extensions>=3.7.4 in /usr/local/lib/python3.11/dist-packages (from pinecone-client->-r /content/Requirments.txt (line 2)) (4.12.2)\n",
            "Requirement already satisfied: urllib3>=1.26.0 in /usr/local/lib/python3.11/dist-packages (from pinecone-client->-r /content/Requirments.txt (line 2)) (2.3.0)\n",
            "Requirement already satisfied: filelock in /usr/local/lib/python3.11/dist-packages (from huggingface_hub->-r /content/Requirments.txt (line 3)) (3.17.0)\n",
            "Requirement already satisfied: fsspec>=2023.5.0 in /usr/local/lib/python3.11/dist-packages (from huggingface_hub->-r /content/Requirments.txt (line 3)) (2024.10.0)\n",
            "Requirement already satisfied: packaging>=20.9 in /usr/local/lib/python3.11/dist-packages (from huggingface_hub->-r /content/Requirments.txt (line 3)) (24.2)\n",
            "Requirement already satisfied: dataclasses-json<0.7,>=0.5.7 in /usr/local/lib/python3.11/dist-packages (from langchain-community->-r /content/Requirments.txt (line 4)) (0.6.7)\n",
            "Requirement already satisfied: httpx-sse<0.5.0,>=0.4.0 in /usr/local/lib/python3.11/dist-packages (from langchain-community->-r /content/Requirments.txt (line 4)) (0.4.0)\n",
            "Requirement already satisfied: pydantic-settings<3.0.0,>=2.4.0 in /usr/local/lib/python3.11/dist-packages (from langchain-community->-r /content/Requirments.txt (line 4)) (2.7.1)\n",
            "Requirement already satisfied: transformers<5.0.0,>=4.41.0 in /usr/local/lib/python3.11/dist-packages (from sentence_transformers->-r /content/Requirments.txt (line 5)) (4.47.1)\n",
            "Requirement already satisfied: torch>=1.11.0 in /usr/local/lib/python3.11/dist-packages (from sentence_transformers->-r /content/Requirments.txt (line 5)) (2.5.1+cu124)\n",
            "Requirement already satisfied: scikit-learn in /usr/local/lib/python3.11/dist-packages (from sentence_transformers->-r /content/Requirments.txt (line 5)) (1.6.1)\n",
            "Requirement already satisfied: scipy in /usr/local/lib/python3.11/dist-packages (from sentence_transformers->-r /content/Requirments.txt (line 5)) (1.13.1)\n",
            "Requirement already satisfied: Pillow in /usr/local/lib/python3.11/dist-packages (from sentence_transformers->-r /content/Requirments.txt (line 5)) (11.1.0)\n",
            "Requirement already satisfied: aiohappyeyeballs>=2.3.0 in /usr/local/lib/python3.11/dist-packages (from aiohttp<4.0.0,>=3.8.3->langchain->-r /content/Requirments.txt (line 1)) (2.4.4)\n",
            "Requirement already satisfied: aiosignal>=1.1.2 in /usr/local/lib/python3.11/dist-packages (from aiohttp<4.0.0,>=3.8.3->langchain->-r /content/Requirments.txt (line 1)) (1.3.2)\n",
            "Requirement already satisfied: attrs>=17.3.0 in /usr/local/lib/python3.11/dist-packages (from aiohttp<4.0.0,>=3.8.3->langchain->-r /content/Requirments.txt (line 1)) (25.1.0)\n",
            "Requirement already satisfied: frozenlist>=1.1.1 in /usr/local/lib/python3.11/dist-packages (from aiohttp<4.0.0,>=3.8.3->langchain->-r /content/Requirments.txt (line 1)) (1.5.0)\n",
            "Requirement already satisfied: multidict<7.0,>=4.5 in /usr/local/lib/python3.11/dist-packages (from aiohttp<4.0.0,>=3.8.3->langchain->-r /content/Requirments.txt (line 1)) (6.1.0)\n",
            "Requirement already satisfied: propcache>=0.2.0 in /usr/local/lib/python3.11/dist-packages (from aiohttp<4.0.0,>=3.8.3->langchain->-r /content/Requirments.txt (line 1)) (0.2.1)\n",
            "Requirement already satisfied: yarl<2.0,>=1.17.0 in /usr/local/lib/python3.11/dist-packages (from aiohttp<4.0.0,>=3.8.3->langchain->-r /content/Requirments.txt (line 1)) (1.18.3)\n",
            "Requirement already satisfied: marshmallow<4.0.0,>=3.18.0 in /usr/local/lib/python3.11/dist-packages (from dataclasses-json<0.7,>=0.5.7->langchain-community->-r /content/Requirments.txt (line 4)) (3.26.1)\n",
            "Requirement already satisfied: typing-inspect<1,>=0.4.0 in /usr/local/lib/python3.11/dist-packages (from dataclasses-json<0.7,>=0.5.7->langchain-community->-r /content/Requirments.txt (line 4)) (0.9.0)\n",
            "Requirement already satisfied: jsonpatch<2.0,>=1.33 in /usr/local/lib/python3.11/dist-packages (from langchain-core<0.4.0,>=0.3.32->langchain->-r /content/Requirments.txt (line 1)) (1.33)\n",
            "Requirement already satisfied: httpx<1,>=0.23.0 in /usr/local/lib/python3.11/dist-packages (from langsmith<0.4,>=0.1.17->langchain->-r /content/Requirments.txt (line 1)) (0.28.1)\n",
            "Requirement already satisfied: orjson<4.0.0,>=3.9.14 in /usr/local/lib/python3.11/dist-packages (from langsmith<0.4,>=0.1.17->langchain->-r /content/Requirments.txt (line 1)) (3.10.15)\n",
            "Requirement already satisfied: requests-toolbelt<2.0.0,>=1.0.0 in /usr/local/lib/python3.11/dist-packages (from langsmith<0.4,>=0.1.17->langchain->-r /content/Requirments.txt (line 1)) (1.0.0)\n",
            "Requirement already satisfied: zstandard<0.24.0,>=0.23.0 in /usr/local/lib/python3.11/dist-packages (from langsmith<0.4,>=0.1.17->langchain->-r /content/Requirments.txt (line 1)) (0.23.0)\n",
            "Requirement already satisfied: annotated-types>=0.6.0 in /usr/local/lib/python3.11/dist-packages (from pydantic<3.0.0,>=2.7.4->langchain->-r /content/Requirments.txt (line 1)) (0.7.0)\n",
            "Requirement already satisfied: pydantic-core==2.27.2 in /usr/local/lib/python3.11/dist-packages (from pydantic<3.0.0,>=2.7.4->langchain->-r /content/Requirments.txt (line 1)) (2.27.2)\n",
            "Requirement already satisfied: python-dotenv>=0.21.0 in /usr/local/lib/python3.11/dist-packages (from pydantic-settings<3.0.0,>=2.4.0->langchain-community->-r /content/Requirments.txt (line 4)) (1.0.1)\n",
            "Requirement already satisfied: charset-normalizer<4,>=2 in /usr/local/lib/python3.11/dist-packages (from requests<3,>=2->langchain->-r /content/Requirments.txt (line 1)) (3.4.1)\n",
            "Requirement already satisfied: idna<4,>=2.5 in /usr/local/lib/python3.11/dist-packages (from requests<3,>=2->langchain->-r /content/Requirments.txt (line 1)) (3.10)\n",
            "Requirement already satisfied: greenlet!=0.4.17 in /usr/local/lib/python3.11/dist-packages (from SQLAlchemy<3,>=1.4->langchain->-r /content/Requirments.txt (line 1)) (3.1.1)\n",
            "Requirement already satisfied: networkx in /usr/local/lib/python3.11/dist-packages (from torch>=1.11.0->sentence_transformers->-r /content/Requirments.txt (line 5)) (3.4.2)\n",
            "Requirement already satisfied: jinja2 in /usr/local/lib/python3.11/dist-packages (from torch>=1.11.0->sentence_transformers->-r /content/Requirments.txt (line 5)) (3.1.5)\n",
            "Requirement already satisfied: nvidia-cuda-nvrtc-cu12==12.4.127 in /usr/local/lib/python3.11/dist-packages (from torch>=1.11.0->sentence_transformers->-r /content/Requirments.txt (line 5)) (12.4.127)\n",
            "Requirement already satisfied: nvidia-cuda-runtime-cu12==12.4.127 in /usr/local/lib/python3.11/dist-packages (from torch>=1.11.0->sentence_transformers->-r /content/Requirments.txt (line 5)) (12.4.127)\n",
            "Requirement already satisfied: nvidia-cuda-cupti-cu12==12.4.127 in /usr/local/lib/python3.11/dist-packages (from torch>=1.11.0->sentence_transformers->-r /content/Requirments.txt (line 5)) (12.4.127)\n",
            "Requirement already satisfied: nvidia-cudnn-cu12==9.1.0.70 in /usr/local/lib/python3.11/dist-packages (from torch>=1.11.0->sentence_transformers->-r /content/Requirments.txt (line 5)) (9.1.0.70)\n",
            "Requirement already satisfied: nvidia-cublas-cu12==12.4.5.8 in /usr/local/lib/python3.11/dist-packages (from torch>=1.11.0->sentence_transformers->-r /content/Requirments.txt (line 5)) (12.4.5.8)\n",
            "Requirement already satisfied: nvidia-cufft-cu12==11.2.1.3 in /usr/local/lib/python3.11/dist-packages (from torch>=1.11.0->sentence_transformers->-r /content/Requirments.txt (line 5)) (11.2.1.3)\n",
            "Requirement already satisfied: nvidia-curand-cu12==10.3.5.147 in /usr/local/lib/python3.11/dist-packages (from torch>=1.11.0->sentence_transformers->-r /content/Requirments.txt (line 5)) (10.3.5.147)\n",
            "Requirement already satisfied: nvidia-cusolver-cu12==11.6.1.9 in /usr/local/lib/python3.11/dist-packages (from torch>=1.11.0->sentence_transformers->-r /content/Requirments.txt (line 5)) (11.6.1.9)\n",
            "Requirement already satisfied: nvidia-cusparse-cu12==12.3.1.170 in /usr/local/lib/python3.11/dist-packages (from torch>=1.11.0->sentence_transformers->-r /content/Requirments.txt (line 5)) (12.3.1.170)\n",
            "Requirement already satisfied: nvidia-nccl-cu12==2.21.5 in /usr/local/lib/python3.11/dist-packages (from torch>=1.11.0->sentence_transformers->-r /content/Requirments.txt (line 5)) (2.21.5)\n",
            "Requirement already satisfied: nvidia-nvtx-cu12==12.4.127 in /usr/local/lib/python3.11/dist-packages (from torch>=1.11.0->sentence_transformers->-r /content/Requirments.txt (line 5)) (12.4.127)\n",
            "Requirement already satisfied: nvidia-nvjitlink-cu12==12.4.127 in /usr/local/lib/python3.11/dist-packages (from torch>=1.11.0->sentence_transformers->-r /content/Requirments.txt (line 5)) (12.4.127)\n",
            "Requirement already satisfied: triton==3.1.0 in /usr/local/lib/python3.11/dist-packages (from torch>=1.11.0->sentence_transformers->-r /content/Requirments.txt (line 5)) (3.1.0)\n",
            "Requirement already satisfied: sympy==1.13.1 in /usr/local/lib/python3.11/dist-packages (from torch>=1.11.0->sentence_transformers->-r /content/Requirments.txt (line 5)) (1.13.1)\n",
            "Requirement already satisfied: mpmath<1.4,>=1.1.0 in /usr/local/lib/python3.11/dist-packages (from sympy==1.13.1->torch>=1.11.0->sentence_transformers->-r /content/Requirments.txt (line 5)) (1.3.0)\n",
            "Requirement already satisfied: regex!=2019.12.17 in /usr/local/lib/python3.11/dist-packages (from transformers<5.0.0,>=4.41.0->sentence_transformers->-r /content/Requirments.txt (line 5)) (2024.11.6)\n",
            "Requirement already satisfied: tokenizers<0.22,>=0.21 in /usr/local/lib/python3.11/dist-packages (from transformers<5.0.0,>=4.41.0->sentence_transformers->-r /content/Requirments.txt (line 5)) (0.21.0)\n",
            "Requirement already satisfied: safetensors>=0.4.1 in /usr/local/lib/python3.11/dist-packages (from transformers<5.0.0,>=4.41.0->sentence_transformers->-r /content/Requirments.txt (line 5)) (0.5.2)\n",
            "Requirement already satisfied: joblib>=1.2.0 in /usr/local/lib/python3.11/dist-packages (from scikit-learn->sentence_transformers->-r /content/Requirments.txt (line 5)) (1.4.2)\n",
            "Requirement already satisfied: threadpoolctl>=3.1.0 in /usr/local/lib/python3.11/dist-packages (from scikit-learn->sentence_transformers->-r /content/Requirments.txt (line 5)) (3.5.0)\n",
            "Requirement already satisfied: anyio in /usr/local/lib/python3.11/dist-packages (from httpx<1,>=0.23.0->langsmith<0.4,>=0.1.17->langchain->-r /content/Requirments.txt (line 1)) (3.7.1)\n",
            "Requirement already satisfied: httpcore==1.* in /usr/local/lib/python3.11/dist-packages (from httpx<1,>=0.23.0->langsmith<0.4,>=0.1.17->langchain->-r /content/Requirments.txt (line 1)) (1.0.7)\n",
            "Requirement already satisfied: h11<0.15,>=0.13 in /usr/local/lib/python3.11/dist-packages (from httpcore==1.*->httpx<1,>=0.23.0->langsmith<0.4,>=0.1.17->langchain->-r /content/Requirments.txt (line 1)) (0.14.0)\n",
            "Requirement already satisfied: jsonpointer>=1.9 in /usr/local/lib/python3.11/dist-packages (from jsonpatch<2.0,>=1.33->langchain-core<0.4.0,>=0.3.32->langchain->-r /content/Requirments.txt (line 1)) (3.0.0)\n",
            "Requirement already satisfied: mypy-extensions>=0.3.0 in /usr/local/lib/python3.11/dist-packages (from typing-inspect<1,>=0.4.0->dataclasses-json<0.7,>=0.5.7->langchain-community->-r /content/Requirments.txt (line 4)) (1.0.0)\n",
            "Requirement already satisfied: MarkupSafe>=2.0 in /usr/local/lib/python3.11/dist-packages (from jinja2->torch>=1.11.0->sentence_transformers->-r /content/Requirments.txt (line 5)) (3.0.2)\n",
            "Requirement already satisfied: sniffio>=1.1 in /usr/local/lib/python3.11/dist-packages (from anyio->httpx<1,>=0.23.0->langsmith<0.4,>=0.1.17->langchain->-r /content/Requirments.txt (line 1)) (1.3.1)\n"
          ]
        }
      ]
    },
    {
      "cell_type": "markdown",
      "source": [
        "1. LangChain (langchain)\n",
        "Purpose: A framework for building applications powered by large language models (LLMs).\n",
        "2. Pinecone Client (pinecone-client)\n",
        "Purpose: A vector database for storing and searching embeddings efficiently.\n",
        "3. Hugging Face Hub (huggingface_hub)\n",
        "Purpose: Provides access to Hugging Face models, datasets, and spaces.\n",
        "4. LangChain Community (langchain_community)\n",
        "Purpose: A package for community-driven integrations in LangChain.\n",
        "5. Sentence Transformers (sentence_transformers)\n",
        "Purpose: A library for computing sentence embeddings for NLP tasks."
      ],
      "metadata": {
        "id": "E5FUN3fhdWDr"
      }
    },
    {
      "cell_type": "markdown",
      "source": [
        "IMPORT LIB"
      ],
      "metadata": {
        "id": "FsqgHczNgjAP"
      }
    },
    {
      "cell_type": "code",
      "source": [
        "#used for input and output operations\n",
        "import os\n",
        "#for checking time\n",
        "import time\n",
        "#to ignore warning\n",
        "import warnings\n",
        "warnings.filterwarnings('ignore')\n",
        "#allows you to securely store and retrieve sensitive information (like API keys or passwords)without hardcoding them in your script.\n",
        "#does not store data permanently; once the session is reset, the stored data is lost.\n",
        "from google.colab import userdata"
      ],
      "metadata": {
        "id": "qJeLb4PPd6FI"
      },
      "execution_count": 47,
      "outputs": []
    },
    {
      "cell_type": "markdown",
      "source": [
        "Lang chain and its components"
      ],
      "metadata": {
        "id": "-jjhW_jFffAU"
      }
    },
    {
      "cell_type": "code",
      "source": [
        "#to load text documents\n",
        "from langchain.document_loaders import TextLoader\n",
        "#to split the document\n",
        "from langchain.text_splitter import CharacterTextSplitter\n",
        "#convert text - embeddings , will handle embedding part\n",
        "from langchain.embeddings import HuggingFaceEmbeddings"
      ],
      "metadata": {
        "id": "E8WLZ8hkfsDr"
      },
      "execution_count": 48,
      "outputs": []
    },
    {
      "cell_type": "markdown",
      "source": [
        "Data Ingestion"
      ],
      "metadata": {
        "id": "7v3GTPabgoQG"
      }
    },
    {
      "cell_type": "markdown",
      "source": [
        "Text Loader - This helps to load any text file into the environment that can be further used by any other component of lang chain\n",
        "We will firstly create an object of TextLoader class to pass our txt doc\n"
      ],
      "metadata": {
        "id": "NNHteUw4guzi"
      }
    },
    {
      "cell_type": "code",
      "source": [
        "loader=TextLoader(\"/content/Human Nerves.txt\")"
      ],
      "metadata": {
        "id": "BTsY_ShagtUe"
      },
      "execution_count": 49,
      "outputs": []
    },
    {
      "cell_type": "markdown",
      "source": [
        "Pine cone accepts data in form of documents or objects , using below process, we can create doc which can be loaeded in pinecone"
      ],
      "metadata": {
        "id": "UpeAzYWDocDc"
      }
    },
    {
      "cell_type": "code",
      "source": [
        "document=loader.load()"
      ],
      "metadata": {
        "id": "Hrjl-4VkolM-"
      },
      "execution_count": 50,
      "outputs": []
    },
    {
      "cell_type": "code",
      "source": [
        "document"
      ],
      "metadata": {
        "colab": {
          "base_uri": "https://localhost:8080/"
        },
        "id": "0FA5V8RDo0aw",
        "outputId": "dc97e4c5-5dbe-40f2-f5ea-b189ff323616"
      },
      "execution_count": 51,
      "outputs": [
        {
          "output_type": "execute_result",
          "data": {
            "text/plain": [
              "[Document(metadata={'source': '/content/Human Nerves.txt'}, page_content='Importance of Human Nerves – Summary\\nThe human nervous system is essential for controlling and coordinating bodily functions. It is responsible for transmitting signals between different parts of the body, allowing for movement, sensation, thought, and homeostasis.\\n\\n1. Structure of the Nervous System\\nThe nervous system is divided into:\\n\\nCentral Nervous System (CNS): Includes the brain and spinal cord, which process and send out signals.\\nPeripheral Nervous System (PNS): Consists of nerves outside the CNS that connect the brain and spinal cord to the rest of the body.\\nSomatic Nervous System: Controls voluntary movements.\\nAutonomic Nervous System: Regulates involuntary functions (heartbeat, digestion, etc.).\\n2. Functions of Nerves\\nSensory Function: Detects stimuli (e.g., pain, temperature) and sends signals to the CNS.\\nMotor Function: Transmits signals from the CNS to muscles, causing movement.\\nAutonomic Function: Controls involuntary actions like breathing, heart rate, and digestion.\\n3. Importance in Body Functions\\nCognitive and Emotional Processing: The brain, connected via nerves, enables thinking, memory, and emotions.\\nReflex Actions: Fast, involuntary responses protect the body from harm.\\nMuscle Control and Movement: Signals from motor nerves allow coordinated movements.\\nHomeostasis Maintenance: The autonomic nervous system regulates internal balance, like blood pressure and temperature.\\n4. Disorders Affecting Nerves\\nNeuropathy (nerve damage) can cause pain, weakness, or loss of function.\\nNeurodegenerative diseases like Alzheimer’s and Parkinson’s affect nerve function.\\nSpinal cord injuries can result in paralysis due to nerve damage.\\n5. Importance of Nervous System Health\\nA healthy nervous system is crucial for overall well-being.\\nProper nutrition, exercise, and avoiding nerve-damaging habits (e.g., smoking, excessive alcohol consumption) help maintain nerve health.\\nConclusion\\nHuman nerves are vital for communication within the body, ensuring coordination, movement, and response to the environment. Their health is essential for both physical and mental well-being.\\n6. Importance of Nerves in Daily Life\\nSurvival & Protection: Nerves help detect danger (e.g., feeling heat and pulling away).\\nCommunication & Cognition: Enables thinking, learning, emotions, and memory.\\nCoordination & Movement: Controls voluntary and involuntary muscle movements.\\nHealing & Adaptation: The nervous system aids in recovery from injuries through neuroplasticity.\\nHuman nerves are fundamental for sensation, movement, and survival. Without them, essential body functions would cease, making them one of the most critical components of human physiology.\\n\\n\\n\\n\\n\\n\\n\\n\\n\\n')]"
            ]
          },
          "metadata": {},
          "execution_count": 51
        }
      ]
    },
    {
      "cell_type": "markdown",
      "source": [
        "Context Window - size or length of window of tokens an LLM takes at once"
      ],
      "metadata": {
        "id": "lqxJXi3do9_s"
      }
    },
    {
      "cell_type": "markdown",
      "source": [
        "Split Data - as model cant capture all info at once.So we need to break down doc\n",
        "1. create object , set params\n",
        "2. use object to split"
      ],
      "metadata": {
        "id": "muni8boCpTcf"
      }
    },
    {
      "cell_type": "code",
      "source": [
        "textSplitter=CharacterTextSplitter(\n",
        "    separator=\" \",\n",
        "    chunk_size=150,\n",
        "    chunk_overlap=4)"
      ],
      "metadata": {
        "id": "6enlBXtrpG7i"
      },
      "execution_count": 52,
      "outputs": []
    },
    {
      "cell_type": "code",
      "source": [
        "splittedDocuments=textSplitter.split_documents(documents=document)"
      ],
      "metadata": {
        "id": "-S4PQX_9qSam"
      },
      "execution_count": 53,
      "outputs": []
    },
    {
      "cell_type": "markdown",
      "source": [
        "chunk overlap do not consume memory, raw text file consumes more memory than this"
      ],
      "metadata": {
        "id": "TXCT3W6fsOgv"
      }
    },
    {
      "cell_type": "code",
      "source": [
        "splittedDocuments"
      ],
      "metadata": {
        "colab": {
          "base_uri": "https://localhost:8080/"
        },
        "id": "cDaC134urekL",
        "outputId": "2f64534f-554b-42a1-dbf6-8241cdf9b137"
      },
      "execution_count": 54,
      "outputs": [
        {
          "output_type": "execute_result",
          "data": {
            "text/plain": [
              "[Document(metadata={'source': '/content/Human Nerves.txt'}, page_content='Importance of Human Nerves – Summary\\nThe human nervous system is essential for controlling and coordinating bodily functions. It is responsible for'),\n",
              " Document(metadata={'source': '/content/Human Nerves.txt'}, page_content='for transmitting signals between different parts of the body, allowing for movement, sensation, thought, and homeostasis.\\n\\n1. Structure of the Nervous'),\n",
              " Document(metadata={'source': '/content/Human Nerves.txt'}, page_content='System\\nThe nervous system is divided into:\\n\\nCentral Nervous System (CNS): Includes the brain and spinal cord, which process and send out'),\n",
              " Document(metadata={'source': '/content/Human Nerves.txt'}, page_content='out signals.\\nPeripheral Nervous System (PNS): Consists of nerves outside the CNS that connect the brain and spinal cord to the rest of the'),\n",
              " Document(metadata={'source': '/content/Human Nerves.txt'}, page_content='the body.\\nSomatic Nervous System: Controls voluntary movements.\\nAutonomic Nervous System: Regulates involuntary functions (heartbeat, digestion,'),\n",
              " Document(metadata={'source': '/content/Human Nerves.txt'}, page_content='etc.).\\n2. Functions of Nerves\\nSensory Function: Detects stimuli (e.g., pain, temperature) and sends signals to the CNS.\\nMotor Function: Transmits'),\n",
              " Document(metadata={'source': '/content/Human Nerves.txt'}, page_content='signals from the CNS to muscles, causing movement.\\nAutonomic Function: Controls involuntary actions like breathing, heart rate, and digestion.\\n3.'),\n",
              " Document(metadata={'source': '/content/Human Nerves.txt'}, page_content='Importance in Body Functions\\nCognitive and Emotional Processing: The brain, connected via nerves, enables thinking, memory, and emotions.\\nReflex'),\n",
              " Document(metadata={'source': '/content/Human Nerves.txt'}, page_content='Actions: Fast, involuntary responses protect the body from harm.\\nMuscle Control and Movement: Signals from motor nerves allow coordinated'),\n",
              " Document(metadata={'source': '/content/Human Nerves.txt'}, page_content='movements.\\nHomeostasis Maintenance: The autonomic nervous system regulates internal balance, like blood pressure and temperature.\\n4. Disorders'),\n",
              " Document(metadata={'source': '/content/Human Nerves.txt'}, page_content='Affecting Nerves\\nNeuropathy (nerve damage) can cause pain, weakness, or loss of function.\\nNeurodegenerative diseases like Alzheimer’s and Parkinson’s'),\n",
              " Document(metadata={'source': '/content/Human Nerves.txt'}, page_content='affect nerve function.\\nSpinal cord injuries can result in paralysis due to nerve damage.\\n5. Importance of Nervous System Health\\nA healthy nervous'),\n",
              " Document(metadata={'source': '/content/Human Nerves.txt'}, page_content='system is crucial for overall well-being.\\nProper nutrition, exercise, and avoiding nerve-damaging habits (e.g., smoking, excessive alcohol'),\n",
              " Document(metadata={'source': '/content/Human Nerves.txt'}, page_content='consumption) help maintain nerve health.\\nConclusion\\nHuman nerves are vital for communication within the body, ensuring coordination, movement, and'),\n",
              " Document(metadata={'source': '/content/Human Nerves.txt'}, page_content='and response to the environment. Their health is essential for both physical and mental well-being.\\n6. Importance of Nerves in Daily Life\\nSurvival &'),\n",
              " Document(metadata={'source': '/content/Human Nerves.txt'}, page_content='& Protection: Nerves help detect danger (e.g., feeling heat and pulling away).\\nCommunication & Cognition: Enables thinking, learning, emotions, and'),\n",
              " Document(metadata={'source': '/content/Human Nerves.txt'}, page_content='and memory.\\nCoordination & Movement: Controls voluntary and involuntary muscle movements.\\nHealing & Adaptation: The nervous system aids in recovery'),\n",
              " Document(metadata={'source': '/content/Human Nerves.txt'}, page_content='from injuries through neuroplasticity.\\nHuman nerves are fundamental for sensation, movement, and survival. Without them, essential body functions'),\n",
              " Document(metadata={'source': '/content/Human Nerves.txt'}, page_content='would cease, making them one of the most critical components of human physiology.')]"
            ]
          },
          "metadata": {},
          "execution_count": 54
        }
      ]
    },
    {
      "cell_type": "markdown",
      "source": [
        "Embeddings"
      ],
      "metadata": {
        "id": "H52JbIDusj73"
      }
    },
    {
      "cell_type": "code",
      "source": [
        "embedding=HuggingFaceEmbeddings()"
      ],
      "metadata": {
        "id": "_-cTXIkzslhA"
      },
      "execution_count": 55,
      "outputs": []
    },
    {
      "cell_type": "markdown",
      "source": [
        "Data base set up - after creating embedding , put them into vector data base - pinecone\n"
      ],
      "metadata": {
        "id": "7Y8ofN1jt6TE"
      }
    },
    {
      "cell_type": "markdown",
      "source": [
        "We need to initiatialize pinecone using pinecone api ,,\n",
        "need to check if we have already smtg in DB,,\n",
        "if there is ntg we will create new index"
      ],
      "metadata": {
        "id": "MzNcqw_ByexE"
      }
    },
    {
      "cell_type": "code",
      "source": [
        "#import pinecone\n",
        "from pinecone import Pinecone,ServerlessSpec"
      ],
      "metadata": {
        "id": "Gu0ZfzIJy3wN"
      },
      "execution_count": 56,
      "outputs": []
    },
    {
      "cell_type": "code",
      "source": [
        "#Start connection with pinecone --Chat is key in pinecone\n",
        "pineconeDataBase=Pinecone(api_key=userdata.get(\"Chat\"))"
      ],
      "metadata": {
        "id": "ydUbdKkjzG4V"
      },
      "execution_count": 57,
      "outputs": []
    },
    {
      "cell_type": "code",
      "source": [
        "#create srver for DB\n",
        "#as it is cloud , working with aws platform\n",
        "mycloud='aws'\n",
        "#region\n",
        "myregion='us-east-1'\n",
        "#start server less DB\n",
        "serv=ServerlessSpec(cloud=mycloud,region=myregion)"
      ],
      "metadata": {
        "id": "_H8DWUMFzoaG"
      },
      "execution_count": 58,
      "outputs": []
    },
    {
      "cell_type": "code",
      "source": [
        "#DB creation\n",
        "#DB name - no upper case or underscore , only lower case and dash(-)\n",
        "index_name='priya-llm-human-nerve-db'"
      ],
      "metadata": {
        "id": "-1D23p4w0uyY"
      },
      "execution_count": 59,
      "outputs": []
    },
    {
      "cell_type": "code",
      "source": [
        "#we need to check if there is similar existing DB or not , if not create new index for us\n",
        "if index_name not in pineconeDataBase.list_indexes().names():\n",
        "  pineconeDataBase.create_index(\n",
        "      name=index_name,\n",
        "      dimension=768,\n",
        "      metric='cosine',#similarity matrix based on distance\n",
        "      spec=serv)\n",
        "#we will wait till the time DB is created and running\n",
        "while not pineconeDataBase.describe_index(index_name).status[\"ready\"]:\n",
        "  time.sleep(1)\n",
        "\n"
      ],
      "metadata": {
        "id": "O347YHlC2ctV"
      },
      "execution_count": 60,
      "outputs": []
    },
    {
      "cell_type": "code",
      "source": [
        "print(pineconeDataBase.Index(index_name).describe_index_stats())\n",
        "#check in pinecone if DB is there"
      ],
      "metadata": {
        "colab": {
          "base_uri": "https://localhost:8080/"
        },
        "id": "WhIYxi529ZCr",
        "outputId": "1cde50c9-8ace-49aa-a714-682658dee544"
      },
      "execution_count": 61,
      "outputs": [
        {
          "output_type": "stream",
          "name": "stdout",
          "text": [
            "{'dimension': 768,\n",
            " 'index_fullness': 0.0,\n",
            " 'namespaces': {'': {'vector_count': 57}},\n",
            " 'total_vector_count': 57}\n"
          ]
        }
      ]
    },
    {
      "cell_type": "markdown",
      "source": [
        "add data into database"
      ],
      "metadata": {
        "id": "NQg-zyth-8pk"
      }
    },
    {
      "cell_type": "code",
      "source": [
        "PINECONE_API_KEY=userdata.get(\"Chat\")"
      ],
      "metadata": {
        "id": "UmVp_AdR_wQI"
      },
      "execution_count": 62,
      "outputs": []
    },
    {
      "cell_type": "code",
      "source": [
        "os.environ[\"PINECONE_API_KEY\"]=PINECONE_API_KEY"
      ],
      "metadata": {
        "id": "xwDBzGtJC7De"
      },
      "execution_count": 63,
      "outputs": []
    },
    {
      "cell_type": "code",
      "source": [
        "#get this pinecone DB from vectorstore\n",
        "from langchain.vectorstores import Pinecone"
      ],
      "metadata": {
        "id": "Pjwo40R2AXWK"
      },
      "execution_count": 64,
      "outputs": []
    },
    {
      "cell_type": "code",
      "source": [
        "#index exists or not\n",
        "if index_name not in pineconeDataBase.list_indexes():\n",
        "  #if not create index and feed data from document\n",
        "  docsearch=Pinecone.from_documents(splittedDocuments,embedding,index_name=index_name)\n",
        "  #if availible , take the index name and embeddind model , feed data\n",
        "else:\n",
        "  docsearch=Pinecone.from_existing_index(index_name,embedding,pinecone_index=pineconeDataBase.Index(index_name))"
      ],
      "metadata": {
        "id": "jz-LQbKRAwlN"
      },
      "execution_count": 65,
      "outputs": []
    },
    {
      "cell_type": "code",
      "source": [
        "docsearch"
      ],
      "metadata": {
        "colab": {
          "base_uri": "https://localhost:8080/"
        },
        "id": "YakdztQDDgzc",
        "outputId": "c08a98f2-c4ec-473c-d72d-85edf6ce2c2d"
      },
      "execution_count": 66,
      "outputs": [
        {
          "output_type": "execute_result",
          "data": {
            "text/plain": [
              "<langchain_community.vectorstores.pinecone.Pinecone at 0x7e3066d639d0>"
            ]
          },
          "metadata": {},
          "execution_count": 66
        }
      ]
    },
    {
      "cell_type": "markdown",
      "source": [
        "Model set up--\n",
        "since we have embedded text in vector DB , so we can now use a model"
      ],
      "metadata": {
        "id": "n_O_fLHU519B"
      }
    },
    {
      "cell_type": "code",
      "source": [
        "repository_id= \"mistralai/Mixtral-8x7B-Instruct-v0.1\""
      ],
      "metadata": {
        "id": "DRXQdSR-51Xy"
      },
      "execution_count": 67,
      "outputs": []
    },
    {
      "cell_type": "code",
      "source": [
        "from langchain.llms import HuggingFaceHub"
      ],
      "metadata": {
        "id": "9lINYFpU7Lpm"
      },
      "execution_count": 68,
      "outputs": []
    },
    {
      "cell_type": "markdown",
      "source": [
        "Model Initialization"
      ],
      "metadata": {
        "id": "zAQLCSTJ7TTU"
      }
    },
    {
      "cell_type": "code",
      "source": [
        "llm=HuggingFaceHub(\n",
        "    repo_id=repository_id, #model\n",
        "    huggingfacehub_api_token=userdata.get(\"Huggingllm\"))"
      ],
      "metadata": {
        "id": "12DDx9_M7SPt"
      },
      "execution_count": 69,
      "outputs": []
    },
    {
      "cell_type": "markdown",
      "source": [
        "Prompt"
      ],
      "metadata": {
        "id": "GKT-8LBs7uUg"
      }
    },
    {
      "cell_type": "code",
      "source": [
        "from langchain import PromptTemplate #helps to give instruction to model"
      ],
      "metadata": {
        "id": "HZIB6iAF7wdu"
      },
      "execution_count": 70,
      "outputs": []
    },
    {
      "cell_type": "code",
      "source": [
        "myTemplate = \"\"\"\n",
        "You are doctor , users will ask doubts about nervous system.\n",
        "Use the following context to answer the question.\n",
        "If you dont know the answer , just say I don't know.\n",
        "Keep the answer brief\n",
        "\n",
        "Context:{context}\n",
        "Question:{question}\n",
        "Answer:\n",
        "\n",
        "\"\"\""
      ],
      "metadata": {
        "id": "i8zQgg4C76cg"
      },
      "execution_count": 71,
      "outputs": []
    },
    {
      "cell_type": "code",
      "source": [
        "prompt=PromptTemplate(\n",
        "    template=myTemplate,\n",
        "    input_variables=[\"Context\",\"Question\"]\n",
        ")"
      ],
      "metadata": {
        "id": "hcrk_Kyk76Y6"
      },
      "execution_count": 72,
      "outputs": []
    },
    {
      "cell_type": "code",
      "source": [
        "prompt"
      ],
      "metadata": {
        "colab": {
          "base_uri": "https://localhost:8080/"
        },
        "id": "pKs9OD939CNH",
        "outputId": "dfb05f8b-a230-4c5f-c597-16c752d60ed1"
      },
      "execution_count": 73,
      "outputs": [
        {
          "output_type": "execute_result",
          "data": {
            "text/plain": [
              "PromptTemplate(input_variables=['context', 'question'], input_types={}, partial_variables={}, template=\"\\nYou are doctor , users will ask doubts about nervous system.\\nUse the following context to answer the question.\\nIf you dont know the answer , just say I don't know.\\nKeep the answer brief\\n\\nContext:{context}\\nQuestion:{question}\\nAnswer:\\n\\n\")"
            ]
          },
          "metadata": {},
          "execution_count": 73
        }
      ]
    },
    {
      "cell_type": "markdown",
      "source": [
        "Chain them together"
      ],
      "metadata": {
        "id": "7gI3SWP59Lg7"
      }
    },
    {
      "cell_type": "markdown",
      "source": [
        "DataBase - pinecone , model - LLM (Mixtral), Prompt-prompt template"
      ],
      "metadata": {
        "id": "tUU_Ze969XwV"
      }
    },
    {
      "cell_type": "markdown",
      "source": [
        "Process begins with doc search where we will try to search for releavent info based on context in doc , one query goes through LLM , our prompt will start working. Prompt -->LLM--> DB-->INFO-->LLM-->conextualized output"
      ],
      "metadata": {
        "id": "q0ymABKD9liE"
      }
    },
    {
      "cell_type": "code",
      "source": [
        "from langchain.chains import RetrievalQA"
      ],
      "metadata": {
        "id": "au21Qlqy9IJ5"
      },
      "execution_count": 74,
      "outputs": []
    },
    {
      "cell_type": "code",
      "source": [
        "questionanswerChain=RetrievalQA.from_chain_type(\n",
        "    llm=llm,\n",
        "    chain_type=\"stuff\",\n",
        "    retriever=docsearch.as_retriever()\n",
        ")"
      ],
      "metadata": {
        "id": "iYVAeaP2AvWx"
      },
      "execution_count": 75,
      "outputs": []
    },
    {
      "cell_type": "code",
      "source": [
        "query='what is nerve'"
      ],
      "metadata": {
        "id": "JB_-MO6-Bf9G"
      },
      "execution_count": 76,
      "outputs": []
    },
    {
      "cell_type": "code",
      "source": [
        "results=questionanswerChain.run(query)"
      ],
      "metadata": {
        "id": "5OaLICByBlgE"
      },
      "execution_count": 77,
      "outputs": []
    },
    {
      "cell_type": "code",
      "source": [
        "print(results)"
      ],
      "metadata": {
        "colab": {
          "base_uri": "https://localhost:8080/"
        },
        "id": "hhsBb0rPBt2t",
        "outputId": "571e448c-70cd-490e-e9c3-722bd8ce6fe6"
      },
      "execution_count": 78,
      "outputs": [
        {
          "output_type": "stream",
          "name": "stdout",
          "text": [
            "Use the following pieces of context to answer the question at the end. If you don't know the answer, just say that you don't know, don't try to make up an answer.\n",
            "\n",
            "from injuries through neuroplasticity.\n",
            "Human nerves are fundamental for sensation, movement, and survival. Without them, essential body functions\n",
            "\n",
            "from injuries through neuroplasticity.\n",
            "Human nerves are fundamental for sensation, movement, and survival. Without them, essential body functions\n",
            "\n",
            "from injuries through neuroplasticity.\n",
            "Human nerves are fundamental for sensation, movement, and survival. Without them, essential body functions\n",
            "\n",
            "from injuries through neuroplasticity.\n",
            "Human nerves are fundamental for sensation, movement, and survival. Without them, essential body functions\n",
            "\n",
            "Question: what is nerve\n",
            "Helpful Answer: Nerves are the part of the body that allow for the transmission of signals between different parts of the body. Neuroplasticity is the brain's ability to form new neural pathways, allowing for the reorganization of the nervous system, including the brain, in response to changes in the body or the environment. This can occur after injury or damage to the nervous system.\n"
          ]
        }
      ]
    }
  ]
}